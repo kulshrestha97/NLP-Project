{
 "cells": [
  {
   "cell_type": "code",
   "execution_count": 41,
   "metadata": {},
   "outputs": [
    {
     "name": "stdout",
     "output_type": "stream",
     "text": [
      "[nltk_data] Downloading package brown to C:\\Users\\RAJAT\n",
      "[nltk_data]     KULSHRESHTHA\\AppData\\Roaming\\nltk_data...\n",
      "[nltk_data]   Package brown is already up-to-date!\n",
      "[nltk_data] Downloading package treebank to C:\\Users\\RAJAT\n",
      "[nltk_data]     KULSHRESHTHA\\AppData\\Roaming\\nltk_data...\n",
      "[nltk_data]   Package treebank is already up-to-date!\n",
      "[nltk_data] Downloading package names to C:\\Users\\RAJAT\n",
      "[nltk_data]     KULSHRESHTHA\\AppData\\Roaming\\nltk_data...\n",
      "[nltk_data]   Package names is already up-to-date!\n",
      "[nltk_data] Downloading package reuters to C:\\Users\\RAJAT\n",
      "[nltk_data]     KULSHRESHTHA\\AppData\\Roaming\\nltk_data...\n",
      "[nltk_data]   Package reuters is already up-to-date!\n"
     ]
    },
    {
     "data": {
      "text/plain": [
       "True"
      ]
     },
     "execution_count": 41,
     "metadata": {},
     "output_type": "execute_result"
    }
   ],
   "source": [
    "import nltk\n",
    "nltk.download('brown')\n",
    "nltk.download('treebank')\n",
    "nltk.download('names')\n",
    "nltk.download('reuters')\n"
   ]
  },
  {
   "cell_type": "code",
   "execution_count": null,
   "metadata": {},
   "outputs": [],
   "source": [
    "from nltk.corpus import brown,reuters\n",
    "brown.categories()\n"
   ]
  },
  {
   "cell_type": "code",
   "execution_count": 26,
   "metadata": {},
   "outputs": [
    {
     "name": "stdout",
     "output_type": "stream",
     "text": [
      "\n",
      "Category:  adventure \n",
      "Words:  ['Dan', 'Morgan', 'told', 'himself', 'he', 'would', ...]\n",
      "\n",
      "Category:  belles_lettres \n",
      "Words:  ['Northern', 'liberals', 'are', 'the', 'chief', ...]\n",
      "\n",
      "Category:  editorial \n",
      "Words:  ['Assembly', 'session', 'brought', 'much', 'good', ...]\n",
      "\n",
      "Category:  fiction \n",
      "Words:  ['Thirty-three', 'Scotty', 'did', 'not', 'go', 'back', ...]\n",
      "\n",
      "Category:  government \n",
      "Words:  ['The', 'Office', 'of', 'Business', 'Economics', '(', ...]\n",
      "\n",
      "Category:  hobbies \n",
      "Words:  ['Too', 'often', 'a', 'beginning', 'bodybuilder', ...]\n",
      "\n",
      "Category:  humor \n",
      "Words:  ['It', 'was', 'among', 'these', 'that', 'Hinkle', ...]\n",
      "\n",
      "Category:  learned \n",
      "Words:  ['1', '.', 'Introduction', 'It', 'has', 'recently', ...]\n",
      "\n",
      "Category:  lore \n",
      "Words:  ['In', 'American', 'romance', ',', 'almost', 'nothing', ...]\n",
      "\n",
      "Category:  mystery \n",
      "Words:  ['There', 'were', 'thirty-eight', 'patients', 'on', ...]\n",
      "\n",
      "Category:  news \n",
      "Words:  ['The', 'Fulton', 'County', 'Grand', 'Jury', 'said', ...]\n",
      "\n",
      "Category:  religion \n",
      "Words:  ['As', 'a', 'result', ',', 'although', 'we', 'still', ...]\n",
      "\n",
      "Category:  reviews \n",
      "Words:  ['It', 'is', 'not', 'news', 'that', 'Nathan', ...]\n",
      "\n",
      "Category:  romance \n",
      "Words:  ['They', 'neither', 'liked', 'nor', 'disliked', 'the', ...]\n",
      "\n",
      "Category:  science_fiction \n",
      "Words:  ['Now', 'that', 'he', 'knew', 'himself', 'to', 'be', ...]\n"
     ]
    }
   ],
   "source": [
    "for category in brown.categories():\n",
    "    print(\"\\nCategory: \",category,'\\nWords: ', brown.words(categories=category))\n",
    "    "
   ]
  },
  {
   "cell_type": "code",
   "execution_count": 29,
   "metadata": {},
   "outputs": [],
   "source": [
    "# This was brown corpus"
   ]
  },
  {
   "cell_type": "code",
   "execution_count": 39,
   "metadata": {},
   "outputs": [
    {
     "data": {
      "text/plain": [
       "['acq',\n",
       " 'alum',\n",
       " 'barley',\n",
       " 'bop',\n",
       " 'carcass',\n",
       " 'castor-oil',\n",
       " 'cocoa',\n",
       " 'coconut',\n",
       " 'coconut-oil',\n",
       " 'coffee',\n",
       " 'copper',\n",
       " 'copra-cake',\n",
       " 'corn',\n",
       " 'cotton',\n",
       " 'cotton-oil',\n",
       " 'cpi',\n",
       " 'cpu',\n",
       " 'crude',\n",
       " 'dfl',\n",
       " 'dlr',\n",
       " 'dmk',\n",
       " 'earn',\n",
       " 'fuel',\n",
       " 'gas',\n",
       " 'gnp',\n",
       " 'gold',\n",
       " 'grain',\n",
       " 'groundnut',\n",
       " 'groundnut-oil',\n",
       " 'heat',\n",
       " 'hog',\n",
       " 'housing',\n",
       " 'income',\n",
       " 'instal-debt',\n",
       " 'interest',\n",
       " 'ipi',\n",
       " 'iron-steel',\n",
       " 'jet',\n",
       " 'jobs',\n",
       " 'l-cattle',\n",
       " 'lead',\n",
       " 'lei',\n",
       " 'lin-oil',\n",
       " 'livestock',\n",
       " 'lumber',\n",
       " 'meal-feed',\n",
       " 'money-fx',\n",
       " 'money-supply',\n",
       " 'naphtha',\n",
       " 'nat-gas',\n",
       " 'nickel',\n",
       " 'nkr',\n",
       " 'nzdlr',\n",
       " 'oat',\n",
       " 'oilseed',\n",
       " 'orange',\n",
       " 'palladium',\n",
       " 'palm-oil',\n",
       " 'palmkernel',\n",
       " 'pet-chem',\n",
       " 'platinum',\n",
       " 'potato',\n",
       " 'propane',\n",
       " 'rand',\n",
       " 'rape-oil',\n",
       " 'rapeseed',\n",
       " 'reserves',\n",
       " 'retail',\n",
       " 'rice',\n",
       " 'rubber',\n",
       " 'rye',\n",
       " 'ship',\n",
       " 'silver',\n",
       " 'sorghum',\n",
       " 'soy-meal',\n",
       " 'soy-oil',\n",
       " 'soybean',\n",
       " 'strategic-metal',\n",
       " 'sugar',\n",
       " 'sun-meal',\n",
       " 'sun-oil',\n",
       " 'sunseed',\n",
       " 'tea',\n",
       " 'tin',\n",
       " 'trade',\n",
       " 'veg-oil',\n",
       " 'wheat',\n",
       " 'wpi',\n",
       " 'yen',\n",
       " 'zinc']"
      ]
     },
     "execution_count": 39,
     "metadata": {},
     "output_type": "execute_result"
    }
   ],
   "source": [
    "reuters.categories()"
   ]
  },
  {
   "cell_type": "code",
   "execution_count": null,
   "metadata": {},
   "outputs": [],
   "source": [
    "for category in reuters.categories():\n",
    "    print(\"\\nCategory: \",category,'\\nWords: ', brown.words(categories=category))\n"
   ]
  }
 ],
 "metadata": {
  "kernelspec": {
   "display_name": "Python 3",
   "language": "python",
   "name": "python3"
  },
  "language_info": {
   "codemirror_mode": {
    "name": "ipython",
    "version": 3
   },
   "file_extension": ".py",
   "mimetype": "text/x-python",
   "name": "python",
   "nbconvert_exporter": "python",
   "pygments_lexer": "ipython3",
   "version": "3.6.0"
  }
 },
 "nbformat": 4,
 "nbformat_minor": 2
}
