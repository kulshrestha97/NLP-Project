{
 "cells": [
  {
   "cell_type": "code",
   "execution_count": 1,
   "metadata": {},
   "outputs": [],
   "source": [
    "__author__==\"Rajat Kulshreshtha, 15BCE0544\"\n",
    "# StopWords\n",
    "\n",
    "from nltk.corpus import stopwords"
   ]
  },
  {
   "cell_type": "code",
   "execution_count": 4,
   "metadata": {},
   "outputs": [
    {
     "data": {
      "text/plain": [
       "['i', 'me', 'my', 'myself', 'we', 'our', 'ours', 'ourselves', 'you', \"you're\"]"
      ]
     },
     "execution_count": 4,
     "metadata": {},
     "output_type": "execute_result"
    }
   ],
   "source": [
    "stopwords.words('english')[:10]\n",
    "# List goes on, so reduced it to 10 entries."
   ]
  },
  {
   "cell_type": "code",
   "execution_count": 5,
   "metadata": {},
   "outputs": [],
   "source": [
    "import nltk"
   ]
  },
  {
   "cell_type": "code",
   "execution_count": 8,
   "metadata": {},
   "outputs": [
    {
     "name": "stdout",
     "output_type": "stream",
     "text": [
      "('abdication', ['AE2', 'B', 'D', 'IH0', 'K', 'EY1', 'SH', 'AH0', 'N'])\n",
      "('abdnor', ['AE1', 'B', 'D', 'N', 'ER0'])\n",
      "('abdo', ['AE1', 'B', 'D', 'OW0'])\n",
      "('abdollah', ['AE2', 'B', 'D', 'AA1', 'L', 'AH0'])\n",
      "('abdomen', ['AE0', 'B', 'D', 'OW1', 'M', 'AH0', 'N'])\n",
      "('abdomen', ['AE1', 'B', 'D', 'AH0', 'M', 'AH0', 'N'])\n",
      "('abdominal', ['AE0', 'B', 'D', 'AA1', 'M', 'AH0', 'N', 'AH0', 'L'])\n",
      "('abdominal', ['AH0', 'B', 'D', 'AA1', 'M', 'AH0', 'N', 'AH0', 'L'])\n",
      "('abduct', ['AE0', 'B', 'D', 'AH1', 'K', 'T'])\n",
      "('abducted', ['AE0', 'B', 'D', 'AH1', 'K', 'T', 'IH0', 'D'])\n",
      "('abducted', ['AH0', 'B', 'D', 'AH1', 'K', 'T', 'IH0', 'D'])\n",
      "('abductee', ['AE0', 'B', 'D', 'AH2', 'K', 'T', 'IY1'])\n",
      "('abductees', ['AE0', 'B', 'D', 'AH2', 'K', 'T', 'IY1', 'Z'])\n",
      "('abducting', ['AE0', 'B', 'D', 'AH1', 'K', 'T', 'IH0', 'NG'])\n",
      "('abducting', ['AH0', 'B', 'D', 'AH1', 'K', 'T', 'IH0', 'NG'])\n",
      "('abduction', ['AE0', 'B', 'D', 'AH1', 'K', 'SH', 'AH0', 'N'])\n",
      "('abduction', ['AH0', 'B', 'D', 'AH1', 'K', 'SH', 'AH0', 'N'])\n",
      "('abductions', ['AE0', 'B', 'D', 'AH1', 'K', 'SH', 'AH0', 'N', 'Z'])\n",
      "('abductions', ['AH0', 'B', 'D', 'AH1', 'K', 'SH', 'AH0', 'N', 'Z'])\n",
      "('abductor', ['AE0', 'B', 'D', 'AH1', 'K', 'T', 'ER0'])\n",
      "('abductor', ['AH0', 'B', 'D', 'AH1', 'K', 'T', 'ER0'])\n",
      "('abductors', ['AE0', 'B', 'D', 'AH1', 'K', 'T', 'ER0', 'Z'])\n",
      "('abductors', ['AH0', 'B', 'D', 'AH1', 'K', 'T', 'ER0', 'Z'])\n",
      "('abducts', ['AE0', 'B', 'D', 'AH1', 'K', 'T', 'S'])\n",
      "('abdul', ['AE0', 'B', 'D', 'UW1', 'L'])\n"
     ]
    }
   ],
   "source": [
    "# Entries of CMU Dict.\n",
    "entries = nltk.corpus.cmudict.entries()\n",
    "len(entries)\n",
    "for entry in entries[100:125]:\n",
    "    print(entry)"
   ]
  },
  {
   "cell_type": "code",
   "execution_count": 29,
   "metadata": {},
   "outputs": [
    {
     "data": {
      "text/plain": [
       "['car', 'auto', 'automobile', 'machine', 'motorcar']"
      ]
     },
     "execution_count": 29,
     "metadata": {},
     "output_type": "execute_result"
    }
   ],
   "source": [
    "# Wordnet\n",
    "from nltk.corpus import wordnet as wn\n",
    "wn.synsets('motorcar') #We'll get an ID for subsets.\n",
    "wn.synset('car.n.01').lemma_names()"
   ]
  },
  {
   "cell_type": "code",
   "execution_count": 26,
   "metadata": {},
   "outputs": [
    {
     "name": "stdout",
     "output_type": "stream",
     "text": [
      "[('My', 'PRP$'), ('name', 'NN'), ('is', 'VBZ'), ('Sherlock', 'NNP'), ('Holmes', 'NNP'), ('.', '.')]\n",
      "[('It', 'PRP'), ('is', 'VBZ'), ('my', 'PRP$'), ('business', 'NN'), ('to', 'TO'), ('know', 'VB'), ('what', 'WP'), ('other', 'JJ'), ('people', 'NNS'), ('don', 'VBP'), ('’', 'JJ'), ('t', 'NN'), ('know', 'VBP'), ('.', '.')]\n"
     ]
    }
   ],
   "source": [
    "#PipeLine\n",
    "import nltk\n",
    "texts = [\"My name is Sherlock Holmes.  It is my business to know what other people don’t know.\"]\n",
    "for text in texts:\n",
    "    sentences = nltk.sent_tokenize(text)\n",
    "    for sentence in sentences:\n",
    "        words = nltk.word_tokenize(sentence)\n",
    "        tagged_words = nltk.pos_tag(words)\n",
    "        print(tagged_words)"
   ]
  },
  {
   "cell_type": "code",
   "execution_count": 20,
   "metadata": {},
   "outputs": [
    {
     "name": "stdout",
     "output_type": "stream",
     "text": [
      "['Hello', 'everyone', '!', 'We', '’', 've', 'got', 'you', 'a', 'surprise', ',', 'this', 'is', 'our', 'new', 'logo', '!', 'Its', 'been', 'one', 'hell', 'of', 'a', 'ride', 'these', 'two', 'years', '!', 'Here', 'we', 'are', ',', 'with', 'new', 'dreams', 'and', 'new', 'plans', '!', '#kulshreshtha_photography']\n"
     ]
    }
   ],
   "source": [
    "# Tweet Tokenizer\n",
    "import nltk\n",
    "from nltk.tokenize import TweetTokenizer\n",
    "text = \"Hello everyone! We’ve got you a surprise, this is our new logo! Its been one hell of a ride these two years! Here we are, with new dreams and new plans! #kulshreshtha_photography\"\n",
    "twtkn = TweetTokenizer()\n",
    "st = list(twtkn.tokenize(text))\n",
    "print(st)"
   ]
  },
  {
   "cell_type": "code",
   "execution_count": null,
   "metadata": {},
   "outputs": [],
   "source": []
  }
 ],
 "metadata": {
  "kernelspec": {
   "display_name": "Python 3",
   "language": "python",
   "name": "python3"
  },
  "language_info": {
   "codemirror_mode": {
    "name": "ipython",
    "version": 3
   },
   "file_extension": ".py",
   "mimetype": "text/x-python",
   "name": "python",
   "nbconvert_exporter": "python",
   "pygments_lexer": "ipython3",
   "version": "3.6.0"
  }
 },
 "nbformat": 4,
 "nbformat_minor": 2
}
